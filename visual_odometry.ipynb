{
 "cells": [
  {
   "cell_type": "markdown",
   "metadata": {},
   "source": [
    "# Visual Odometry "
   ]
  },
  {
   "cell_type": "code",
   "execution_count": 1,
   "metadata": {},
   "outputs": [],
   "source": [
    "# tools \n",
    "import matplotlib.pyplot as plt \n",
    "import numpy as np \n",
    "import cv2 as cv \n",
    "import os "
   ]
  },
  {
   "cell_type": "markdown",
   "metadata": {},
   "source": [
    "We are going to perform visual odometry for the Kitti Dataset, let's first take a look to the data."
   ]
  },
  {
   "cell_type": "code",
   "execution_count": 2,
   "metadata": {},
   "outputs": [
    {
     "name": "stderr",
     "output_type": "stream",
     "text": [
      "[ WARN:0@2.987] global loadsave.cpp:241 findDecoder imread_('000000.png'): can't open/read file: check file path/integrity\n"
     ]
    }
   ],
   "source": [
    "# Set video frame properties.\n",
    "num_seq   = \"00\"\n",
    "dir_path  = \"./gray_images/sequences/\" + num_seq + \"/image_0\"\n",
    "img_list  = sorted(os.listdir(dir_path))\n",
    "frame_fps = 30\n",
    "img = cv.imread(img_list[0])\n",
    "# frame_w, frame_h = cv.imread(img_list[0], cv.IMREAD_GRAYSCALE).shape\n",
    "# frame_w, frame_h\n",
    "\n",
    "# # Specify the value for fourcc\n",
    "# fourcc_avi = cv2.VideoWriter_fourcc('M','J','P','G')\n",
    "# fourcc_mp4 = cv2.VideoWriter_fourcc(*'XVID')\n",
    "\n",
    "# # Specify the video output filenames.\n",
    "# file_out_avi = 'video_out.avi'\n",
    "# file_out_mp4 = 'video_out.mp4'\n",
    "\n",
    "# # Slow down the speed of the video.\n",
    "# frame_fps = int(frame_fps/3)\n",
    "\n",
    "# # Create the video writer objects.\n",
    "# out_avi = cv2.VideoWriter(file_out_avi, fourcc_avi, frame_fps, (frame_w,frame_h))\n",
    "# out_mp4 = cv2.VideoWriter(file_out_mp4, fourcc_mp4, frame_fps, (frame_w,frame_h))"
   ]
  }
 ],
 "metadata": {
  "kernelspec": {
   "display_name": "computer_vision",
   "language": "python",
   "name": "python3"
  },
  "language_info": {
   "codemirror_mode": {
    "name": "ipython",
    "version": 3
   },
   "file_extension": ".py",
   "mimetype": "text/x-python",
   "name": "python",
   "nbconvert_exporter": "python",
   "pygments_lexer": "ipython3",
   "version": "3.9.19"
  }
 },
 "nbformat": 4,
 "nbformat_minor": 2
}
